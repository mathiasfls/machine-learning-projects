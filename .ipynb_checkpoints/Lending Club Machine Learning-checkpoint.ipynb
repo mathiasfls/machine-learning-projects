{
 "cells": [
  {
   "cell_type": "markdown",
   "metadata": {},
   "source": [
    "# Predicting Bad Loans Using Lending Club Data\n",
    "\n",
    "### Contents\n",
    "\n",
    " 1. Objectives\n",
    " 2. Data Dictionary\n",
    " 3. Data Cleaning and Pre-Processing\n",
    "     1. Loading Data\n",
    "     2. Data Summary\n",
    "     3. Data Cleaning\n",
    "         1. Find missing values\n",
    "         2. Find unique observations with rare values\n",
    "         3. Identify correlated predictors\n",
    "     4. Data Pre-Processing for machine Learning tasks  \n",
    "         1. Converting each variable to correct type\n",
    "         2. re-scale(normalize) numerical variables\n",
    "         3. Creating dummy variables for categorical variables\n",
    "         4. Train, Validation and Test Data Split\n",
    " 4. Model Selection and Evaluation\n",
    "     2. Neural Network(Deep Learning)\n",
    "     3. Naive Bayes\n",
    "     4. Random Forest\n",
    "     6. Gradient Boosting Machine\n",
    "     1. Generalized Linear Model\n",
    "     6. Model Performance Comparison\n",
    " 5. Summary"
   ]
  },
  {
   "cell_type": "markdown",
   "metadata": {},
   "source": [
    "## 1. Objectives\n",
    "\n",
    "Using lending club's historical data to identify bad loans\n",
    "\n",
    "## 2. Data DIctionary\n",
    "\n",
    "[Lending club loan data](https://raw.githubusercontent.com/h2oai/h2o-tutorials/master/training/data/loan.csv) with variables:\n",
    "\n",
    "| Variables| Description |\n",
    "|:--:|:---|\n",
    "| loan_amnt|The listed amount of the loan applied for by the borrower. If at some point in time, the credit department reduces the loan amount, then it will be reflected in this value.|\n",
    "|term | The number of payments on the loan. Values are in months and can be either 36 or 60.|\n",
    "|int_rate |Interest Rate on the loan|\n",
    "|emp_length |Employment length in years. Possible values are between 0 and 10 where 0 means less than one year and 10 means ten or more years.|\n",
    "| home_ownership|The home ownership status provided by the borrower during registration. Our values are: RENT, OWN, MORTGAGE, OTHER.|\n",
    "|annual_inc | The self-reported annual income provided by the borrower during registration.|\n",
    "|purpose |A category provided by the borrower for the loan request. |\n",
    "| addr_state|borrower's state  |\n",
    "|dti | A ratio calculated using the borrower’s total monthly debt payments on the total debt obligations, excluding mortgage and the requested LC loan, divided by the borrower’s self-reported monthly income.|\n",
    "|delinq_2yrs | The number of 30+ days past-due incidences of delinquency in the borrower's credit file for the past 2 years|\n",
    "|revol_util |Revolving line utilization rate, or the amount of credit the borrower is using relative to all available revolving credit.|\n",
    "|total_acc |The total number of credit lines currently in the borrower's credit file|\n",
    "| bad_loan|Result we want to predict, is the loan a bad loan? |\n",
    "|longest_credit_length | longest credit length|\n",
    "| verification_status| Indicates if the co-borrowers' joint income was verified by LC, not verified, or if the income source was verified|\n"
   ]
  },
  {
   "cell_type": "code",
   "execution_count": 1,
   "metadata": {},
   "outputs": [
    {
     "name": "stderr",
     "output_type": "stream",
     "text": [
      "-- Attaching packages --------------------------------------- tidyverse 1.2.1 --\n",
      "√ ggplot2 2.2.1     √ purrr   0.2.4\n",
      "√ tibble  1.4.1     √ dplyr   0.7.4\n",
      "√ tidyr   0.7.2     √ stringr 1.2.0\n",
      "√ readr   1.1.1     √ forcats 0.2.0\n",
      "Warning message:\n",
      "\"package 'tibble' was built under R version 3.4.3\"-- Conflicts ------------------------------------------ tidyverse_conflicts() --\n",
      "x dplyr::filter() masks stats::filter()\n",
      "x dplyr::lag()    masks stats::lag()\n",
      "Warning message:\n",
      "\"package 'caret' was built under R version 3.4.3\"Loading required package: lattice\n",
      "\n",
      "Attaching package: 'caret'\n",
      "\n",
      "The following object is masked from 'package:purrr':\n",
      "\n",
      "    lift\n",
      "\n",
      "\n",
      "Attaching package: 'kernlab'\n",
      "\n",
      "The following object is masked from 'package:purrr':\n",
      "\n",
      "    cross\n",
      "\n",
      "The following object is masked from 'package:ggplot2':\n",
      "\n",
      "    alpha\n",
      "\n",
      "Warning message:\n",
      "\"package 'corrplot' was built under R version 3.4.3\"corrplot 0.84 loaded\n",
      "Warning message:\n",
      "\"package 'h2o' was built under R version 3.4.3\"\n",
      "----------------------------------------------------------------------\n",
      "\n",
      "Your next step is to start H2O:\n",
      "    > h2o.init()\n",
      "\n",
      "For H2O package documentation, ask for help:\n",
      "    > ??h2o\n",
      "\n",
      "After starting H2O, you can use the Web UI at http://localhost:54321\n",
      "For more information visit http://docs.h2o.ai\n",
      "\n",
      "----------------------------------------------------------------------\n",
      "\n",
      "\n",
      "Attaching package: 'h2o'\n",
      "\n",
      "The following objects are masked from 'package:stats':\n",
      "\n",
      "    cor, sd, var\n",
      "\n",
      "The following objects are masked from 'package:base':\n",
      "\n",
      "    %*%, %in%, &&, ||, apply, as.factor, as.numeric, colnames,\n",
      "    colnames<-, ifelse, is.character, is.factor, is.numeric, log,\n",
      "    log10, log1p, log2, round, signif, trunc\n",
      "\n",
      "Warning message:\n",
      "\"package 'doParallel' was built under R version 3.4.3\"Loading required package: foreach\n",
      "Warning message:\n",
      "\"package 'foreach' was built under R version 3.4.3\"\n",
      "Attaching package: 'foreach'\n",
      "\n",
      "The following objects are masked from 'package:purrr':\n",
      "\n",
      "    accumulate, when\n",
      "\n",
      "Loading required package: iterators\n",
      "Warning message:\n",
      "\"package 'iterators' was built under R version 3.4.3\""
     ]
    }
   ],
   "source": [
    "# Load libraries\n",
    "library(tidyverse) # for data manipulation and ploting\n",
    "library(caret) # for machine learning\n",
    "library(kernlab) # for svm algorithm\n",
    "library(corrplot) # correlation plot\n",
    "library(stringr) # for string manipulation\n",
    "library(h2o) # fo machine learning\n",
    "library(parallel) # for multi-core parellel processing\n",
    "library(doParallel) # for multi-core parellel processing"
   ]
  },
  {
   "cell_type": "markdown",
   "metadata": {},
   "source": [
    "## 3.Data Cleaning and Pre-Processing\n",
    "### 3.A. Loading Data"
   ]
  },
  {
   "cell_type": "code",
   "execution_count": 2,
   "metadata": {
    "collapsed": true
   },
   "outputs": [],
   "source": [
    "lending_data <- read.csv(\"https://raw.githubusercontent.com/h2oai/app-consumer-loan/master/data/loan.csv\")"
   ]
  },
  {
   "cell_type": "markdown",
   "metadata": {},
   "source": [
    "### 3.B.Data Summary and Exploration"
   ]
  },
  {
   "cell_type": "code",
   "execution_count": 3,
   "metadata": {},
   "outputs": [
    {
     "name": "stdout",
     "output_type": "stream",
     "text": [
      "Observations: 163,987\n",
      "Variables: 15\n",
      "$ loan_amnt             <int> 5000, 2500, 2400, 10000, 5000, 3000, 5600, 53...\n",
      "$ term                  <fct> 36 months, 60 months, 36 months, 36 months, 3...\n",
      "$ int_rate              <dbl> 10.65, 15.27, 15.96, 13.49, 7.90, 18.64, 21.2...\n",
      "$ emp_length            <int> 10, 0, 10, 10, 3, 9, 4, 0, 5, 10, 0, 3, 3, 0,...\n",
      "$ home_ownership        <fct> RENT, RENT, RENT, RENT, RENT, RENT, OWN, RENT...\n",
      "$ annual_inc            <dbl> 24000.00, 30000.00, 12252.00, 49200.00, 36000...\n",
      "$ purpose               <fct> credit_card, car, small_business, other, wedd...\n",
      "$ addr_state            <fct> AZ, GA, IL, CA, AZ, CA, CA, TX, AZ, CA, VA, I...\n",
      "$ dti                   <dbl> 27.65, 1.00, 8.72, 20.00, 11.20, 5.35, 5.55, ...\n",
      "$ delinq_2yrs           <int> 0, 0, 0, 0, 0, 0, 0, 0, 0, 0, 0, 0, 0, 0, 0, ...\n",
      "$ revol_util            <dbl> 83.70, 9.40, 98.50, 21.00, 28.30, 87.50, 32.6...\n",
      "$ total_acc             <int> 9, 4, 10, 37, 12, 4, 13, 3, 23, 34, 9, 11, 29...\n",
      "$ bad_loan              <int> 0, 1, 0, 0, 0, 0, 1, 1, 0, 0, 1, 0, 1, 0, 0, ...\n",
      "$ longest_credit_length <int> 26, 12, 10, 15, 7, 4, 7, 7, 13, 22, 7, 8, 20,...\n",
      "$ verification_status   <fct> verified, verified, not verified, verified, v...\n"
     ]
    },
    {
     "data": {
      "text/plain": [
       "   loan_amnt            term           int_rate       emp_length    \n",
       " Min.   :  500   36 months:129950   Min.   : 5.42   Min.   : 0.000  \n",
       " 1st Qu.: 7000   60 months: 34037   1st Qu.:10.65   1st Qu.: 2.000  \n",
       " Median :11325                      Median :13.49   Median : 6.000  \n",
       " Mean   :13074                      Mean   :13.72   Mean   : 5.684  \n",
       " 3rd Qu.:18000                      3rd Qu.:16.32   3rd Qu.:10.000  \n",
       " Max.   :35000                      Max.   :26.06   Max.   :10.000  \n",
       "                                                    NA's   :5804    \n",
       "  home_ownership    annual_inc                    purpose        addr_state   \n",
       " ANY     :    1   Min.   :   1896   debt_consolidation:93261   CA     :28702  \n",
       " MORTGAGE:79714   1st Qu.:  45000   credit_card       :30792   NY     :14285  \n",
       " NONE    :   30   Median :  61000   other             :10492   TX     :12128  \n",
       " OTHER   :  156   Mean   :  71916   home_improvement  : 9872   FL     :11396  \n",
       " OWN     :13560   3rd Qu.:  85000   major_purchase    : 4686   NJ     : 6457  \n",
       " RENT    :70526   Max.   :7141778   small_business    : 3841   IL     : 6099  \n",
       "                  NA's   :4         (Other)           :11043   (Other):84920  \n",
       "      dti         delinq_2yrs        revol_util       total_acc     \n",
       " Min.   : 0.00   Min.   : 0.0000   Min.   :  0.00   Min.   :  1.00  \n",
       " 1st Qu.:10.23   1st Qu.: 0.0000   1st Qu.: 35.60   1st Qu.: 16.00  \n",
       " Median :15.62   Median : 0.0000   Median : 55.80   Median : 23.00  \n",
       " Mean   :15.88   Mean   : 0.2274   Mean   : 54.08   Mean   : 24.58  \n",
       " 3rd Qu.:21.26   3rd Qu.: 0.0000   3rd Qu.: 74.20   3rd Qu.: 31.00  \n",
       " Max.   :39.99   Max.   :29.0000   Max.   :150.70   Max.   :118.00  \n",
       "                 NA's   :29        NA's   :193      NA's   :29      \n",
       "    bad_loan     longest_credit_length   verification_status\n",
       " Min.   :0.000   Min.   : 0.00         not verified: 59155  \n",
       " 1st Qu.:0.000   1st Qu.:10.00         verified    :104832  \n",
       " Median :0.000   Median :14.00                              \n",
       " Mean   :0.183   Mean   :14.85                              \n",
       " 3rd Qu.:0.000   3rd Qu.:18.00                              \n",
       " Max.   :1.000   Max.   :65.00                              \n",
       "                 NA's   :29                                 "
      ]
     },
     "metadata": {},
     "output_type": "display_data"
    }
   ],
   "source": [
    "#glimpse at data structure\n",
    "glimpse(lending_data)\n",
    "#View data summary\n",
    "summary(lending_data)"
   ]
  },
  {
   "cell_type": "markdown",
   "metadata": {},
   "source": [
    "### 3.C. Data Cleanning\n",
    "#### 3.C.a. FInd NAs\n",
    "\n",
    "Before machine learning tasks, we need to find NAs, assess their influence on our final result. And judge how to deal with them: remove them totally, create new variables or impute them."
   ]
  },
  {
   "cell_type": "code",
   "execution_count": 4,
   "metadata": {},
   "outputs": [
    {
     "data": {
      "text/html": [
       "<table>\n",
       "<thead><tr><th scope=col>loan_amnt</th><th scope=col>term</th><th scope=col>int_rate</th><th scope=col>emp_length</th><th scope=col>home_ownership</th><th scope=col>annual_inc</th><th scope=col>purpose</th><th scope=col>addr_state</th><th scope=col>dti</th><th scope=col>delinq_2yrs</th><th scope=col>revol_util</th><th scope=col>total_acc</th><th scope=col>bad_loan</th><th scope=col>longest_credit_length</th><th scope=col>verification_status</th></tr></thead>\n",
       "<tbody>\n",
       "\t<tr><td>0   </td><td>0   </td><td>0   </td><td>5804</td><td>0   </td><td>4   </td><td>0   </td><td>0   </td><td>0   </td><td>29  </td><td>193 </td><td>29  </td><td>0   </td><td>29  </td><td>0   </td></tr>\n",
       "</tbody>\n",
       "</table>\n"
      ],
      "text/latex": [
       "\\begin{tabular}{lllllllllllllll}\n",
       " loan\\_amnt & term & int\\_rate & emp\\_length & home\\_ownership & annual\\_inc & purpose & addr\\_state & dti & delinq\\_2yrs & revol\\_util & total\\_acc & bad\\_loan & longest\\_credit\\_length & verification\\_status\\\\\n",
       "\\hline\n",
       "\t 0    & 0    & 0    & 5804 & 0    & 4    & 0    & 0    & 0    & 29   & 193  & 29   & 0    & 29   & 0   \\\\\n",
       "\\end{tabular}\n"
      ],
      "text/markdown": [
       "\n",
       "loan_amnt | term | int_rate | emp_length | home_ownership | annual_inc | purpose | addr_state | dti | delinq_2yrs | revol_util | total_acc | bad_loan | longest_credit_length | verification_status | \n",
       "|---|\n",
       "| 0    | 0    | 0    | 5804 | 0    | 4    | 0    | 0    | 0    | 29   | 193  | 29   | 0    | 29   | 0    | \n",
       "\n",
       "\n"
      ],
      "text/plain": [
       "     loan_amnt term int_rate emp_length home_ownership annual_inc purpose\n",
       "[1,] 0         0    0        5804       0              4          0      \n",
       "     addr_state dti delinq_2yrs revol_util total_acc bad_loan\n",
       "[1,] 0          0   29          193        29        0       \n",
       "     longest_credit_length verification_status\n",
       "[1,] 29                    0                  "
      ]
     },
     "metadata": {},
     "output_type": "display_data"
    }
   ],
   "source": [
    "t(map_dbl(lending_data,~sum(is.na(.x))))"
   ]
  },
  {
   "cell_type": "markdown",
   "metadata": {},
   "source": [
    "We can find some variables contain NA values(We have **163987** observations):\n",
    "\n",
    "|Variable Name|NA count|Method|\n",
    "|:---:|--:|:--|\n",
    "|emp_length | 5804|Remove this variable and create a new variable *is_emp_missing* to indicate whether emp_length is missing |\n",
    "| annual_inc| 4| median imputation|\n",
    "| delinq_2yrs|29 |Remove observations |\n",
    "| revol_util|193 | median imputation|\n",
    "|total_acc |29 | Remove observations|\n",
    "|longest_credit_length|29|Remove observations|\n",
    "\n",
    "We find that observations with NA in delinq_2yrs,total_acc and longest_credit_length columns are the same. It should be bad data, and it's a small amount of our data. So we can safely remove them.  \n",
    "\n",
    "As for annual_inc and revol_util, we can use mean imputation.  \n",
    "\n",
    "However, for emp_length, we cannot simply remove it or empute it as we have many observations with empty emp_length. We need to explore it first. After exploration, we found that emp_length is not very predictive for bad loan, instead, whether this variable is missing is predictive. So we create a new variable *is_emp_missing* to indicate whether employment length is missing."
   ]
  },
  {
   "cell_type": "code",
   "execution_count": 5,
   "metadata": {},
   "outputs": [
    {
     "data": {
      "text/html": [
       "<table>\n",
       "<thead><tr><th scope=col>row_number</th><th scope=col>delinq_2yrs</th><th scope=col>revol_util</th><th scope=col>total_acc</th><th scope=col>longest_credit_length</th></tr></thead>\n",
       "<tbody>\n",
       "\t<tr><td>38949</td><td>NA   </td><td>NA   </td><td>NA   </td><td>NA   </td></tr>\n",
       "\t<tr><td>38950</td><td>NA   </td><td>NA   </td><td>NA   </td><td>NA   </td></tr>\n",
       "\t<tr><td>38959</td><td>NA   </td><td>NA   </td><td>NA   </td><td>NA   </td></tr>\n",
       "\t<tr><td>38972</td><td>NA   </td><td>NA   </td><td>NA   </td><td>NA   </td></tr>\n",
       "\t<tr><td>38980</td><td>NA   </td><td>NA   </td><td>NA   </td><td>NA   </td></tr>\n",
       "\t<tr><td>38983</td><td>NA   </td><td>NA   </td><td>NA   </td><td>NA   </td></tr>\n",
       "\t<tr><td>38994</td><td>NA   </td><td>NA   </td><td>NA   </td><td>NA   </td></tr>\n",
       "\t<tr><td>39009</td><td>NA   </td><td>NA   </td><td>NA   </td><td>NA   </td></tr>\n",
       "\t<tr><td>39014</td><td>NA   </td><td>NA   </td><td>NA   </td><td>NA   </td></tr>\n",
       "\t<tr><td>39015</td><td>NA   </td><td>NA   </td><td>NA   </td><td>NA   </td></tr>\n",
       "\t<tr><td>39016</td><td>NA   </td><td>NA   </td><td>NA   </td><td>NA   </td></tr>\n",
       "\t<tr><td>39017</td><td>NA   </td><td>NA   </td><td>NA   </td><td>NA   </td></tr>\n",
       "\t<tr><td>39018</td><td>NA   </td><td>NA   </td><td>NA   </td><td>NA   </td></tr>\n",
       "\t<tr><td>39019</td><td>NA   </td><td>NA   </td><td>NA   </td><td>NA   </td></tr>\n",
       "\t<tr><td>39020</td><td>NA   </td><td>NA   </td><td>NA   </td><td>NA   </td></tr>\n",
       "\t<tr><td>39021</td><td>NA   </td><td>NA   </td><td>NA   </td><td>NA   </td></tr>\n",
       "\t<tr><td>39022</td><td>NA   </td><td>NA   </td><td>NA   </td><td>NA   </td></tr>\n",
       "\t<tr><td>39023</td><td>NA   </td><td>NA   </td><td>NA   </td><td>NA   </td></tr>\n",
       "\t<tr><td>39024</td><td>NA   </td><td>NA   </td><td>NA   </td><td>NA   </td></tr>\n",
       "\t<tr><td>39025</td><td>NA   </td><td>NA   </td><td>NA   </td><td>NA   </td></tr>\n",
       "\t<tr><td>39026</td><td>NA   </td><td>NA   </td><td>NA   </td><td>NA   </td></tr>\n",
       "\t<tr><td>39027</td><td>NA   </td><td>NA   </td><td>NA   </td><td>NA   </td></tr>\n",
       "\t<tr><td>39028</td><td>NA   </td><td>NA   </td><td>NA   </td><td>NA   </td></tr>\n",
       "\t<tr><td>39029</td><td>NA   </td><td>NA   </td><td>NA   </td><td>NA   </td></tr>\n",
       "\t<tr><td>39030</td><td>NA   </td><td>NA   </td><td>NA   </td><td>NA   </td></tr>\n",
       "\t<tr><td>39031</td><td>NA   </td><td>NA   </td><td>NA   </td><td>NA   </td></tr>\n",
       "\t<tr><td>39032</td><td>NA   </td><td>NA   </td><td>NA   </td><td>NA   </td></tr>\n",
       "\t<tr><td>39033</td><td>NA   </td><td>NA   </td><td>NA   </td><td>NA   </td></tr>\n",
       "\t<tr><td>39034</td><td>NA   </td><td>NA   </td><td>NA   </td><td>NA   </td></tr>\n",
       "</tbody>\n",
       "</table>\n"
      ],
      "text/latex": [
       "\\begin{tabular}{r|lllll}\n",
       " row\\_number & delinq\\_2yrs & revol\\_util & total\\_acc & longest\\_credit\\_length\\\\\n",
       "\\hline\n",
       "\t 38949 & NA    & NA    & NA    & NA   \\\\\n",
       "\t 38950 & NA    & NA    & NA    & NA   \\\\\n",
       "\t 38959 & NA    & NA    & NA    & NA   \\\\\n",
       "\t 38972 & NA    & NA    & NA    & NA   \\\\\n",
       "\t 38980 & NA    & NA    & NA    & NA   \\\\\n",
       "\t 38983 & NA    & NA    & NA    & NA   \\\\\n",
       "\t 38994 & NA    & NA    & NA    & NA   \\\\\n",
       "\t 39009 & NA    & NA    & NA    & NA   \\\\\n",
       "\t 39014 & NA    & NA    & NA    & NA   \\\\\n",
       "\t 39015 & NA    & NA    & NA    & NA   \\\\\n",
       "\t 39016 & NA    & NA    & NA    & NA   \\\\\n",
       "\t 39017 & NA    & NA    & NA    & NA   \\\\\n",
       "\t 39018 & NA    & NA    & NA    & NA   \\\\\n",
       "\t 39019 & NA    & NA    & NA    & NA   \\\\\n",
       "\t 39020 & NA    & NA    & NA    & NA   \\\\\n",
       "\t 39021 & NA    & NA    & NA    & NA   \\\\\n",
       "\t 39022 & NA    & NA    & NA    & NA   \\\\\n",
       "\t 39023 & NA    & NA    & NA    & NA   \\\\\n",
       "\t 39024 & NA    & NA    & NA    & NA   \\\\\n",
       "\t 39025 & NA    & NA    & NA    & NA   \\\\\n",
       "\t 39026 & NA    & NA    & NA    & NA   \\\\\n",
       "\t 39027 & NA    & NA    & NA    & NA   \\\\\n",
       "\t 39028 & NA    & NA    & NA    & NA   \\\\\n",
       "\t 39029 & NA    & NA    & NA    & NA   \\\\\n",
       "\t 39030 & NA    & NA    & NA    & NA   \\\\\n",
       "\t 39031 & NA    & NA    & NA    & NA   \\\\\n",
       "\t 39032 & NA    & NA    & NA    & NA   \\\\\n",
       "\t 39033 & NA    & NA    & NA    & NA   \\\\\n",
       "\t 39034 & NA    & NA    & NA    & NA   \\\\\n",
       "\\end{tabular}\n"
      ],
      "text/markdown": [
       "\n",
       "row_number | delinq_2yrs | revol_util | total_acc | longest_credit_length | \n",
       "|---|---|---|---|---|---|---|---|---|---|---|---|---|---|---|---|---|---|---|---|---|---|---|---|---|---|---|---|---|\n",
       "| 38949 | NA    | NA    | NA    | NA    | \n",
       "| 38950 | NA    | NA    | NA    | NA    | \n",
       "| 38959 | NA    | NA    | NA    | NA    | \n",
       "| 38972 | NA    | NA    | NA    | NA    | \n",
       "| 38980 | NA    | NA    | NA    | NA    | \n",
       "| 38983 | NA    | NA    | NA    | NA    | \n",
       "| 38994 | NA    | NA    | NA    | NA    | \n",
       "| 39009 | NA    | NA    | NA    | NA    | \n",
       "| 39014 | NA    | NA    | NA    | NA    | \n",
       "| 39015 | NA    | NA    | NA    | NA    | \n",
       "| 39016 | NA    | NA    | NA    | NA    | \n",
       "| 39017 | NA    | NA    | NA    | NA    | \n",
       "| 39018 | NA    | NA    | NA    | NA    | \n",
       "| 39019 | NA    | NA    | NA    | NA    | \n",
       "| 39020 | NA    | NA    | NA    | NA    | \n",
       "| 39021 | NA    | NA    | NA    | NA    | \n",
       "| 39022 | NA    | NA    | NA    | NA    | \n",
       "| 39023 | NA    | NA    | NA    | NA    | \n",
       "| 39024 | NA    | NA    | NA    | NA    | \n",
       "| 39025 | NA    | NA    | NA    | NA    | \n",
       "| 39026 | NA    | NA    | NA    | NA    | \n",
       "| 39027 | NA    | NA    | NA    | NA    | \n",
       "| 39028 | NA    | NA    | NA    | NA    | \n",
       "| 39029 | NA    | NA    | NA    | NA    | \n",
       "| 39030 | NA    | NA    | NA    | NA    | \n",
       "| 39031 | NA    | NA    | NA    | NA    | \n",
       "| 39032 | NA    | NA    | NA    | NA    | \n",
       "| 39033 | NA    | NA    | NA    | NA    | \n",
       "| 39034 | NA    | NA    | NA    | NA    | \n",
       "\n",
       "\n"
      ],
      "text/plain": [
       "   row_number delinq_2yrs revol_util total_acc longest_credit_length\n",
       "1  38949      NA          NA         NA        NA                   \n",
       "2  38950      NA          NA         NA        NA                   \n",
       "3  38959      NA          NA         NA        NA                   \n",
       "4  38972      NA          NA         NA        NA                   \n",
       "5  38980      NA          NA         NA        NA                   \n",
       "6  38983      NA          NA         NA        NA                   \n",
       "7  38994      NA          NA         NA        NA                   \n",
       "8  39009      NA          NA         NA        NA                   \n",
       "9  39014      NA          NA         NA        NA                   \n",
       "10 39015      NA          NA         NA        NA                   \n",
       "11 39016      NA          NA         NA        NA                   \n",
       "12 39017      NA          NA         NA        NA                   \n",
       "13 39018      NA          NA         NA        NA                   \n",
       "14 39019      NA          NA         NA        NA                   \n",
       "15 39020      NA          NA         NA        NA                   \n",
       "16 39021      NA          NA         NA        NA                   \n",
       "17 39022      NA          NA         NA        NA                   \n",
       "18 39023      NA          NA         NA        NA                   \n",
       "19 39024      NA          NA         NA        NA                   \n",
       "20 39025      NA          NA         NA        NA                   \n",
       "21 39026      NA          NA         NA        NA                   \n",
       "22 39027      NA          NA         NA        NA                   \n",
       "23 39028      NA          NA         NA        NA                   \n",
       "24 39029      NA          NA         NA        NA                   \n",
       "25 39030      NA          NA         NA        NA                   \n",
       "26 39031      NA          NA         NA        NA                   \n",
       "27 39032      NA          NA         NA        NA                   \n",
       "28 39033      NA          NA         NA        NA                   \n",
       "29 39034      NA          NA         NA        NA                   "
      ]
     },
     "metadata": {},
     "output_type": "display_data"
    }
   ],
   "source": [
    "#check if these are the same observations\n",
    "lending_data %>% \n",
    "    mutate(row_number = row_number()) %>% \n",
    "    filter(is.na(delinq_2yrs)) %>% \n",
    "    select(row_number,delinq_2yrs,revol_util,total_acc,longest_credit_length)"
   ]
  },
  {
   "cell_type": "code",
   "execution_count": 6,
   "metadata": {
    "collapsed": true
   },
   "outputs": [],
   "source": [
    "#remove some NA observations\n",
    "cleaned_data <- lending_data %>%\n",
    "    filter(!is.na(delinq_2yrs))"
   ]
  },
  {
   "cell_type": "code",
   "execution_count": 7,
   "metadata": {},
   "outputs": [
    {
     "data": {},
     "metadata": {},
     "output_type": "display_data"
    },
    {
     "data": {
      "image/png": "[encoded data removed]",
      "text/plain": [
       "plot without title"
      ]
     },
     "metadata": {},
     "output_type": "display_data"
    }
   ],
   "source": [
    "plot_width = 6\n",
    "options(repr.plot.width= plot_width, repr.plot.height=plot_width * 0.618)\n",
    "lending_data %>%\n",
    "    group_by(emp_length) %>%\n",
    "    summarise(bad_rate = sum(as.numeric(bad_loan))/n()) %>%\n",
    "    mutate(emp_length = if_else(is.na(emp_length),\"NA\",as.character(emp_length))) %>%\n",
    "    arrange(emp_length) %>% \n",
    "    ggplot(aes(x = emp_length, y = bad_rate)) +\n",
    "    geom_col(fill = \"skyblue3\") +\n",
    "    labs(title = \"Employment length vs bad loan rate\", subtitle = \"when employment rate is missing, bad loan rate is higher\")"
   ]
  },
  {
   "cell_type": "markdown",
   "metadata": {},
   "source": [
    "#### 3.C.b. Find observations with rare values\n",
    "\n",
    "We have **163987** observations, by rule of thumb, we need to remove observations appears in less than 0.01% of total observations, in our case, the number is **16**.\n",
    "\n",
    "So we need to remove this observations in our dataset:\n",
    "\n",
    "|variables|observations that need to be romoved|\n",
    "|---|---|\n",
    "|home_ownership|ANY|\n",
    "|addr_state|IA,ID,ME,NE|"
   ]
  },
  {
   "cell_type": "code",
   "execution_count": 8,
   "metadata": {},
   "outputs": [
    {
     "data": {
      "text/plain": [
       "$term\n",
       "\n",
       "36 months 60 months \n",
       "   129950     34037 \n",
       "\n",
       "$home_ownership\n",
       "\n",
       "     ANY MORTGAGE     NONE    OTHER      OWN     RENT \n",
       "       1    79714       30      156    13560    70526 \n",
       "\n",
       "$purpose\n",
       "\n",
       "               car        credit_card debt_consolidation        educational \n",
       "              2842              30792              93261                418 \n",
       "  home_improvement              house     major_purchase            medical \n",
       "              9872               1245               4686               2029 \n",
       "            moving              other   renewable_energy     small_business \n",
       "              1464              10492                198               3841 \n",
       "          vacation            wedding \n",
       "              1096               1751 \n",
       "\n",
       "$addr_state\n",
       "\n",
       "   AK    AL    AR    AZ    CA    CO    CT    DC    DE    FL    GA    HI    IA \n",
       "  413  1965  1104  3941 28702  3531  2563   584   445 11396  5189   955    12 \n",
       "   ID    IL    IN    KS    KY    LA    MA    MD    ME    MI    MN    MO    MS \n",
       "    9  6099  1463  1335  1477  1885  4164  3890     3  3762  2771  2627   163 \n",
       "   MT    NC    NE    NH    NJ    NM    NV    NY    OH    OK    OR    PA    RI \n",
       "  483  4393    13   752  6457   839  2387 14285  4896  1331  2149  5427   695 \n",
       "   SC    SD    TN    TX    UT    VA    VT    WA    WI    WV    WY \n",
       " 1826   317  1327 12128  1389  5282   270  3823  1980   714   376 \n",
       "\n",
       "$verification_status\n",
       "\n",
       "not verified     verified \n",
       "       59155       104832 \n"
      ]
     },
     "metadata": {},
     "output_type": "display_data"
    }
   ],
   "source": [
    "#### 3.C.b. Find observations with rare values\n",
    "col_class_fac <- map_chr(lending_data,class) == \"factor\"\n",
    "map(lending_data[,col_class_fac],table)\n",
    "#remove rare observations\n",
    "cleaned_data <- cleaned_data %>% \n",
    "    filter(home_ownership != \"ANY\" | !(addr_state %in% c(\"IA\",\"ID\",\"ME\",\"NE\")))"
   ]
  },
  {
   "cell_type": "code",
   "execution_count": 9,
   "metadata": {
    "collapsed": true
   },
   "outputs": [],
   "source": [
    "#remove rare observations\n",
    "cleaned_data <- cleaned_data %>% \n",
    "    filter(!(home_ownership == \"ANY\" | (addr_state %in% c(\"IA\",\"ID\",\"ME\",\"NE\"))))\n",
    "#create new column is_emp_missing and remove original one\n",
    "cleaned_data <- cleaned_data %>%\n",
    "    mutate(is_emp_missing = if_else(is.na(emp_length),1,0)) %>%\n",
    "    select(-emp_length)"
   ]
  },
  {
   "cell_type": "markdown",
   "metadata": {},
   "source": [
    "#### 3.C.c. Indentify correlated predictors\n",
    "\n",
    "Many models benefit from reduced predictors, we use correlation heatmaps to identify them. In our case, all of our predictors are not correlated, so we can safely skip this part.   \n",
    "However, int_rate is highly correlated with our prediction, because interest rate is assigned after deciding the risk. So we need to remove interest rate variable."
   ]
  },
  {
   "cell_type": "code",
   "execution_count": 10,
   "metadata": {},
   "outputs": [
    {
     "data": {
      "image/png": "[encoded data removed]",
      "text/plain": [
       "Plot with title \"\""
      ]
     },
     "metadata": {},
     "output_type": "display_data"
    }
   ],
   "source": [
    "plot_width = 8\n",
    "options(repr.plot.width= plot_width, repr.plot.height=plot_width * 0.618)\n",
    "#correlation heatmap with numerical variables\n",
    "lending_numeric <- cbind(cleaned_data[,map_lgl(cleaned_data,is.numeric)])\n",
    "corrplot(cor(lending_numeric,use = \"complete.obs\"),method = \"number\")\n",
    "#remove interest rate\n",
    "cleaned_data<- cleaned_data[,-which(\"int_rate\" == colnames(cleaned_data))]"
   ]
  },
  {
   "cell_type": "markdown",
   "metadata": {},
   "source": [
    "### 3.D. Data Pre-Processing for machine learning tasks\n",
    "#### 3.D.a. Converting each variable to correct type\n",
    "\n",
    "We nned to change *bad_loan* to factor"
   ]
  },
  {
   "cell_type": "code",
   "execution_count": 11,
   "metadata": {
    "collapsed": true
   },
   "outputs": [],
   "source": [
    "cleaned_data$bad_loan <- as.factor(cleaned_data$bad_loan)\n",
    "cleaned_data$addr_state <- factor(cleaned_data$addr_state, levels = unique(cleaned_data$addr_state))"
   ]
  },
  {
   "cell_type": "markdown",
   "metadata": {},
   "source": [
    "#### 3.D.b. re-scale(normalize) numerical variables\n",
    "\n",
    "Most algorithms benefits from data with the same scale, especially neural network. So we need to rescale our data."
   ]
  },
  {
   "cell_type": "code",
   "execution_count": 12,
   "metadata": {
    "collapsed": true
   },
   "outputs": [],
   "source": [
    "processed_values <- preProcess(cleaned_data, method = c(\"center\", \"scale\",\"medianImpute\"))\n",
    "data_transformed <- predict(processed_values, cleaned_data)"
   ]
  },
  {
   "cell_type": "markdown",
   "metadata": {},
   "source": [
    "#### 3.D.c. Creating dummy variables for categorical variables\n",
    "\n",
    "Though some models accept categorical variables, all models accept numerical values. And caret package only accepts numerical input."
   ]
  },
  {
   "cell_type": "code",
   "execution_count": 13,
   "metadata": {
    "collapsed": true
   },
   "outputs": [],
   "source": [
    "#convert categorical values to dummy variables\n",
    "cleaned_data_dum <- model.matrix(bad_loan ~ ., data = data_transformed)\n",
    "cleaned_data_dum <- cbind(data.frame(bad_loan = data_transformed$bad_loan),\n",
    "                          cleaned_data_dum[,-1]) #remove intercept"
   ]
  },
  {
   "cell_type": "markdown",
   "metadata": {},
   "source": [
    "#### 3.D.d. train, validation and test split\n",
    "\n",
    "85% of observations used for training and validating, 15% of observations used for testing."
   ]
  },
  {
   "cell_type": "code",
   "execution_count": 14,
   "metadata": {},
   "outputs": [
    {
     "name": "stdout",
     "output_type": "stream",
     "text": [
      " Connection successful!\n",
      "\n",
      "R is connected to the H2O cluster: \n",
      "    H2O cluster uptime:         17 seconds 135 milliseconds \n",
      "    H2O cluster version:        3.16.0.2 \n",
      "    H2O cluster version age:    2 months and 9 days  \n",
      "    H2O cluster name:           H2O_started_from_R_yanyi_ztf142 \n",
      "    H2O cluster total nodes:    1 \n",
      "    H2O cluster total memory:   7.11 GB \n",
      "    H2O cluster total cores:    8 \n",
      "    H2O cluster allowed cores:  7 \n",
      "    H2O cluster healthy:        TRUE \n",
      "    H2O Connection ip:          localhost \n",
      "    H2O Connection port:        54321 \n",
      "    H2O Connection proxy:       NA \n",
      "    H2O Internal Security:      FALSE \n",
      "    H2O API Extensions:         Algos, AutoML, Core V3, Core V4 \n",
      "    R Version:                  R version 3.4.2 (2017-09-28) \n",
      "\n",
      "  |======================================================================| 100%\n"
     ]
    },
    {
     "data": {
      "text/html": [
       "114834"
      ],
      "text/latex": [
       "114834"
      ],
      "text/markdown": [
       "114834"
      ],
      "text/plain": [
       "[1] 114834"
      ]
     },
     "metadata": {},
     "output_type": "display_data"
    },
    {
     "data": {
      "text/html": [
       "24569"
      ],
      "text/latex": [
       "24569"
      ],
      "text/markdown": [
       "24569"
      ],
      "text/plain": [
       "[1] 24569"
      ]
     },
     "metadata": {},
     "output_type": "display_data"
    },
    {
     "data": {
      "text/html": [
       "24517"
      ],
      "text/latex": [
       "24517"
      ],
      "text/markdown": [
       "24517"
      ],
      "text/plain": [
       "[1] 24517"
      ]
     },
     "metadata": {},
     "output_type": "display_data"
    }
   ],
   "source": [
    "#prepare data for h2o package\n",
    "#register cores for parellel precessing\n",
    "h2o.init(nthreads = -1, #all cores\n",
    "         max_mem_size = \"8G\")\n",
    "\n",
    "h2o_data <- as.h2o(cleaned_data_dum)\n",
    "splits <- h2o.splitFrame(data = h2o_data, \n",
    "                         ratios = c(0.7, 0.15),  #partition data into 70%, 15%, 15% chunks\n",
    "                         seed = 20070831)  #setting a seed to guarantee reproducibility\n",
    "h2o_train <- splits[[1]]\n",
    "h2o_valid <- splits[[2]]\n",
    "h2o_test <- splits[[3]]\n",
    "nrow(h2o_train)\n",
    "nrow(h2o_valid)\n",
    "nrow(h2o_test)\n",
    "y = \"bad_loan\"\n",
    "x = setdiff(names(h2o_data), c(y, \"int_rate\"))"
   ]
  },
  {
   "cell_type": "markdown",
   "metadata": {},
   "source": [
    "## 4. Model Selection and Evaluation"
   ]
  },
  {
   "cell_type": "markdown",
   "metadata": {},
   "source": [
    "### 4.A Neural Network(Deep Learning)"
   ]
  },
  {
   "cell_type": "code",
   "execution_count": 15,
   "metadata": {},
   "outputs": [
    {
     "name": "stdout",
     "output_type": "stream",
     "text": [
      "\r",
      "  |                                                                            \r",
      "  |                                                                      |   0%\r",
      "  |                                                                            \r",
      "  |=                                                                     |   1%\r",
      "  |                                                                            \r",
      "  |==                                                                    |   3%\r",
      "  |                                                                            \r",
      "  |=====                                                                 |   7%\r",
      "  |                                                                            \r",
      "  |======                                                                |   9%\r",
      "  |                                                                            \r",
      "  |=======                                                               |   9%\r",
      "  |                                                                            \r",
      "  |========                                                              |  11%\r",
      "  |                                                                            \r",
      "  |=========                                                             |  12%\r",
      "  |                                                                            \r",
      "  |==========                                                            |  15%\r",
      "  |                                                                            \r",
      "  |===========                                                           |  16%\r",
      "  |                                                                            \r",
      "  |============                                                          |  17%\r",
      "  |                                                                            \r",
      "  |=============                                                         |  19%\r",
      "  |                                                                            \r",
      "  |===============                                                       |  21%\r",
      "  |                                                                            \r",
      "  |=================                                                     |  24%\r",
      "  |                                                                            \r",
      "  |==================                                                    |  26%\r",
      "  |                                                                            \r",
      "  |===================                                                   |  28%\r",
      "  |                                                                            \r",
      "  |====================                                                  |  29%\r",
      "  |                                                                            \r",
      "  |=====================                                                 |  30%\r",
      "  |                                                                            \r",
      "  |======================                                                |  32%\r",
      "  |                                                                            \r",
      "  |=======================                                               |  33%\r",
      "  |                                                                            \r",
      "  |=========================                                             |  36%\r",
      "  |                                                                            \r",
      "  |==========================                                            |  38%\r",
      "  |                                                                            \r",
      "  |============================                                          |  40%\r",
      "  |                                                                            \r",
      "  |==============================                                        |  43%\r",
      "  |                                                                            \r",
      "  |===============================                                       |  45%\r",
      "  |                                                                            \r",
      "  |=================================                                     |  46%\r",
      "  |                                                                            \r",
      "  |==================================                                    |  48%\r",
      "  |                                                                            \r",
      "  |===================================                                   |  49%\r",
      "  |                                                                            \r",
      "  |====================================                                  |  51%\r",
      "  |                                                                            \r",
      "  |=====================================                                 |  52%\r",
      "  |                                                                            \r",
      "  |======================================                                |  54%\r",
      "  |                                                                            \r",
      "  |========================================                              |  57%\r",
      "  |                                                                            \r",
      "  |==========================================                            |  60%\r",
      "  |                                                                            \r",
      "  |===========================================                           |  62%\r",
      "  |                                                                            \r",
      "  |=============================================                         |  64%\r",
      "  |                                                                            \r",
      "  |==============================================                        |  65%\r",
      "  |                                                                            \r",
      "  |===============================================                       |  67%\r",
      "  |                                                                            \r",
      "  |================================================                      |  68%\r",
      "  |                                                                            \r",
      "  |=================================================                     |  70%\r",
      "  |                                                                            \r",
      "  |==================================================                    |  71%\r",
      "  |                                                                            \r",
      "  |===================================================                   |  73%\r",
      "  |                                                                            \r",
      "  |=====================================================                 |  76%\r",
      "  |                                                                            \r",
      "  |=======================================================               |  79%\r",
      "  |                                                                            \r",
      "  |=========================================================             |  81%\r",
      "  |                                                                            \r",
      "  |==========================================================            |  83%\r",
      "  |                                                                            \r",
      "  |===========================================================           |  84%\r",
      "  |                                                                            \r",
      "  |============================================================          |  86%\r",
      "  |                                                                            \r",
      "  |=============================================================         |  87%\r",
      "  |                                                                            \r",
      "  |==============================================================        |  89%\r",
      "  |                                                                            \r",
      "  |===============================================================       |  90%\r",
      "  |                                                                            \r",
      "  |=================================================================     |  93%\r",
      "  |                                                                            \r",
      "  |==================================================================    |  94%\r",
      "  |                                                                            \r",
      "  |====================================================================  |  97%\r",
      "  |                                                                            \r",
      "  |===================================================================== |  99%\r",
      "  |                                                                            \r",
      "  |======================================================================| 100%\n"
     ]
    }
   ],
   "source": [
    "#set grid search parameters\n",
    "nnet.params <- list(loss = c(\"Quadratic\",\"CrossEntropy\"), #loss function\n",
    "                    rate = c(0.05,0.1,0.5), #learning rate\n",
    "                    hidden = list(c(10,10),c(20,20))) #number of layers\n",
    "\n",
    "# Train and validate a grid of deep learning models\n",
    "nnet.grid <- h2o.grid(\"deeplearning\", x = x, y = y,\n",
    "                      grid_id = \"nnet.grid\",\n",
    "                      training_frame = h2o_train,\n",
    "                      validation_frame = h2o_valid,\n",
    "                      seed = 20070831,\n",
    "                      hyper_params = nnet.params)"
   ]
  },
  {
   "cell_type": "markdown",
   "metadata": {},
   "source": [
    "Find the best deeplearning model: model no.**7**"
   ]
  },
  {
   "cell_type": "code",
   "execution_count": 34,
   "metadata": {},
   "outputs": [
    {
     "name": "stdout",
     "output_type": "stream",
     "text": [
      "H2O Grid Details\n",
      "================\n",
      "\n",
      "Grid ID: nnet.grid \n",
      "Used hyper parameters: \n",
      "  -  hidden \n",
      "  -  loss \n",
      "  -  rate \n",
      "Number of models: 12 \n",
      "Number of failed models: 0 \n",
      "\n",
      "Hyper-Parameter Search Summary: ordered by decreasing auc\n",
      "     hidden         loss rate          model_ids                auc\n",
      "1  [20, 20] CrossEntropy  0.1  nnet.grid_model_7 0.6598583790969472\n",
      "2  [10, 10] CrossEntropy 0.05  nnet.grid_model_2 0.6583439020021618\n",
      "3  [20, 20]    Quadratic 0.05  nnet.grid_model_1 0.6566732615752757\n",
      "4  [10, 10] CrossEntropy  0.5 nnet.grid_model_10  0.654426924071809\n",
      "5  [20, 20]    Quadratic  0.5  nnet.grid_model_9 0.6543699843731111\n",
      "6  [10, 10]    Quadratic  0.1  nnet.grid_model_4 0.6543308393719377\n",
      "7  [20, 20]    Quadratic  0.1  nnet.grid_model_5 0.6538623660425392\n",
      "8  [20, 20] CrossEntropy 0.05  nnet.grid_model_3 0.6521178301202506\n",
      "9  [10, 10]    Quadratic 0.05  nnet.grid_model_0 0.6517558916393478\n",
      "10 [20, 20] CrossEntropy  0.5 nnet.grid_model_11 0.6494888871752842\n",
      "11 [10, 10] CrossEntropy  0.1  nnet.grid_model_6 0.6463338478591696\n",
      "12 [10, 10]    Quadratic  0.5  nnet.grid_model_8 0.6446875800011378\n"
     ]
    }
   ],
   "source": [
    "nnet.grid.perf <- h2o.getGrid(grid_id = \"nnet.grid\", \n",
    "                             sort_by = \"auc\", \n",
    "                             decreasing = TRUE)\n",
    "print(nnet.grid.perf)"
   ]
  },
  {
   "cell_type": "code",
   "execution_count": 35,
   "metadata": {},
   "outputs": [
    {
     "data": {
      "text/html": [
       "<table>\n",
       "<thead><tr><th scope=col>model</th><th scope=col>accuracy</th></tr></thead>\n",
       "<tbody>\n",
       "\t<tr><td>neural network</td><td>0.6540315     </td></tr>\n",
       "</tbody>\n",
       "</table>\n"
      ],
      "text/latex": [
       "\\begin{tabular}{r|ll}\n",
       " model & accuracy\\\\\n",
       "\\hline\n",
       "\t neural network & 0.6540315     \\\\\n",
       "\\end{tabular}\n"
      ],
      "text/markdown": [
       "\n",
       "model | accuracy | \n",
       "|---|\n",
       "| neural network | 0.6540315      | \n",
       "\n",
       "\n"
      ],
      "text/plain": [
       "  model          accuracy \n",
       "1 neural network 0.6540315"
      ]
     },
     "metadata": {},
     "output_type": "display_data"
    },
    {
     "data": {
      "image/png": "[encoded data removed]",
      "text/plain": [
       "Plot with title \"Variable Importance: Deep Learning\""
      ]
     },
     "metadata": {},
     "output_type": "display_data"
    }
   ],
   "source": [
    "#select model 7 as our final model\n",
    "best_nnet_model_id <- nnet.grid.perf@model_ids[[7]]\n",
    "best_nnet <- h2o.getModel(best_nnet_model_id)\n",
    "\n",
    "# Now let's evaluate the model performance on a test set\n",
    "# so we get an honest estimate of top model performance\n",
    "best_nnet_perf <- h2o.performance(model = best_nnet, \n",
    "                                 newdata = h2o_test)\n",
    "#initialize dataframe for model performance comparison\n",
    "model_performance <- data.frame(model = \"neural network\", accuracy = h2o.auc(best_nnet_perf))\n",
    "model_performance\n",
    "\n",
    "#variable importance plot\n",
    "plot_width = 7\n",
    "options(repr.plot.width= plot_width, repr.plot.height=plot_width * 0.618)\n",
    "h2o.varimp_plot(best_nnet,num_of_features = 15)"
   ]
  },
  {
   "cell_type": "markdown",
   "metadata": {},
   "source": [
    "### 4.B Naive Bayes"
   ]
  },
  {
   "cell_type": "code",
   "execution_count": 25,
   "metadata": {},
   "outputs": [
    {
     "name": "stdout",
     "output_type": "stream",
     "text": [
      "\r",
      "  |                                                                            \r",
      "  |                                                                      |   0%\r",
      "  |                                                                            \r",
      "  |====                                                                  |   6%\r",
      "  |                                                                            \r",
      "  |===============================================                       |  67%\r",
      "  |                                                                            \r",
      "  |======================================================================| 100%\n"
     ]
    }
   ],
   "source": [
    "#set grid search parameters\n",
    "nb.params <- list(laplace = c(1,5,10)) \n",
    "\n",
    "# Train and validate a grid of naive bayes\n",
    "nb.grid <- h2o.grid(\"naivebayes\", x = x, y = y,\n",
    "                      grid_id = \"nb.grid\",\n",
    "                      training_frame = h2o_train,\n",
    "                      validation_frame = h2o_valid,\n",
    "                      seed = 20070831,\n",
    "                      hyper_params = nb.params)"
   ]
  },
  {
   "cell_type": "markdown",
   "metadata": {},
   "source": [
    "Find the best model, the best model is model **2**"
   ]
  },
  {
   "cell_type": "code",
   "execution_count": 26,
   "metadata": {},
   "outputs": [
    {
     "name": "stdout",
     "output_type": "stream",
     "text": [
      "H2O Grid Details\n",
      "================\n",
      "\n",
      "Grid ID: nb.grid \n",
      "Used hyper parameters: \n",
      "  -  laplace \n",
      "Number of models: 3 \n",
      "Number of failed models: 0 \n",
      "\n",
      "Hyper-Parameter Search Summary: ordered by decreasing auc\n",
      "  laplace       model_ids                auc\n",
      "1    10.0 nb.grid_model_2  0.596158062025771\n",
      "2     1.0 nb.grid_model_0 0.5961539286336517\n",
      "3     5.0 nb.grid_model_1 0.5961539286336517\n"
     ]
    }
   ],
   "source": [
    "nb.grid.perf <- h2o.getGrid(grid_id = \"nb.grid\", \n",
    "                              sort_by = \"auc\", \n",
    "                              decreasing = TRUE)\n",
    "print(nb.grid.perf)"
   ]
  },
  {
   "cell_type": "code",
   "execution_count": 36,
   "metadata": {},
   "outputs": [
    {
     "data": {
      "text/html": [
       "<table>\n",
       "<thead><tr><th scope=col>model</th><th scope=col>accuracy</th></tr></thead>\n",
       "<tbody>\n",
       "\t<tr><td>neural network</td><td>0.6540315     </td></tr>\n",
       "\t<tr><td>naive bayes   </td><td>0.5983807     </td></tr>\n",
       "</tbody>\n",
       "</table>\n"
      ],
      "text/latex": [
       "\\begin{tabular}{r|ll}\n",
       " model & accuracy\\\\\n",
       "\\hline\n",
       "\t neural network & 0.6540315     \\\\\n",
       "\t naive bayes    & 0.5983807     \\\\\n",
       "\\end{tabular}\n"
      ],
      "text/markdown": [
       "\n",
       "model | accuracy | \n",
       "|---|---|\n",
       "| neural network | 0.6540315      | \n",
       "| naive bayes    | 0.5983807      | \n",
       "\n",
       "\n"
      ],
      "text/plain": [
       "  model          accuracy \n",
       "1 neural network 0.6540315\n",
       "2 naive bayes    0.5983807"
      ]
     },
     "metadata": {},
     "output_type": "display_data"
    }
   ],
   "source": [
    "#select model 2 as our final model\n",
    "best_nb_model_id <- nb.grid.perf@model_ids[[2]]\n",
    "best_nb <- h2o.getModel(best_nb_model_id)\n",
    "\n",
    "# Now let's evaluate the model performance on a test set\n",
    "# so we get an honest estimate of top model performance\n",
    "best_nb_perf <- h2o.performance(model = best_nb, \n",
    "                                  newdata = h2o_test)\n",
    "#initialize dataframe for model performance comparison\n",
    "model_performance <- rbind(model_performance,data.frame(model = \"naive bayes\", accuracy = h2o.auc(best_nb_perf)))\n",
    "model_performance\n",
    "# This model doesn't have variable importance, so we don't plot it"
   ]
  },
  {
   "cell_type": "markdown",
   "metadata": {},
   "source": [
    "### 4.C Random Forest"
   ]
  },
  {
   "cell_type": "code",
   "execution_count": 29,
   "metadata": {},
   "outputs": [
    {
     "name": "stdout",
     "output_type": "stream",
     "text": [
      "\r",
      "  |                                                                            \r",
      "  |                                                                      |   0%\r",
      "  |                                                                            \r",
      "  |                                                                      |   1%\r",
      "  |                                                                            \r",
      "  |=                                                                     |   1%\r",
      "  |                                                                            \r",
      "  |=                                                                     |   2%\r",
      "  |                                                                            \r",
      "  |==                                                                    |   2%\r",
      "  |                                                                            \r",
      "  |==                                                                    |   3%\r",
      "  |                                                                            \r",
      "  |===                                                                   |   4%\r",
      "  |                                                                            \r",
      "  |===                                                                   |   5%\r",
      "  |                                                                            \r",
      "  |====                                                                  |   5%\r",
      "  |                                                                            \r",
      "  |====                                                                  |   6%\r",
      "  |                                                                            \r",
      "  |=====                                                                 |   7%\r",
      "  |                                                                            \r",
      "  |=====                                                                 |   8%\r",
      "  |                                                                            \r",
      "  |======                                                                |   8%\r",
      "  |                                                                            \r",
      "  |======                                                                |   9%\r",
      "  |                                                                            \r",
      "  |=======                                                               |  10%\r",
      "  |                                                                            \r",
      "  |=======                                                               |  11%\r",
      "  |                                                                            \r",
      "  |========                                                              |  11%\r",
      "  |                                                                            \r",
      "  |========                                                              |  12%\r",
      "  |                                                                            \r",
      "  |=========                                                             |  12%\r",
      "  |                                                                            \r",
      "  |=========                                                             |  13%\r",
      "  |                                                                            \r",
      "  |==========                                                            |  14%\r",
      "  |                                                                            \r",
      "  |==========                                                            |  15%\r",
      "  |                                                                            \r",
      "  |===========                                                           |  15%\r",
      "  |                                                                            \r",
      "  |===========                                                           |  16%\r",
      "  |                                                                            \r",
      "  |============                                                          |  17%\r",
      "  |                                                                            \r",
      "  |============                                                          |  18%\r",
      "  |                                                                            \r",
      "  |=============                                                         |  18%\r",
      "  |                                                                            \r",
      "  |=============                                                         |  19%\r",
      "  |                                                                            \r",
      "  |==============                                                        |  20%\r",
      "  |                                                                            \r",
      "  |===============                                                       |  21%\r",
      "  |                                                                            \r",
      "  |===============                                                       |  22%\r",
      "  |                                                                            \r",
      "  |================                                                      |  22%\r",
      "  |                                                                            \r",
      "  |================                                                      |  23%\r",
      "  |                                                                            \r",
      "  |=================                                                     |  24%\r",
      "  |                                                                            \r",
      "  |=================                                                     |  25%\r",
      "  |                                                                            \r",
      "  |==================                                                    |  25%\r",
      "  |                                                                            \r",
      "  |==================                                                    |  26%\r",
      "  |                                                                            \r",
      "  |===================                                                   |  27%\r",
      "  |                                                                            \r",
      "  |====================                                                  |  28%\r",
      "  |                                                                            \r",
      "  |====================                                                  |  29%\r",
      "  |                                                                            \r",
      "  |=====================                                                 |  29%\r",
      "  |                                                                            \r",
      "  |=====================                                                 |  30%\r",
      "  |                                                                            \r",
      "  |=====================                                                 |  31%\r",
      "  |                                                                            \r",
      "  |======================                                                |  31%\r",
      "  |                                                                            \r",
      "  |======================                                                |  32%\r",
      "  |                                                                            \r",
      "  |=======================                                               |  33%\r",
      "  |                                                                            \r",
      "  |=======================                                               |  34%\r",
      "  |                                                                            \r",
      "  |========================                                              |  34%\r",
      "  |                                                                            \r",
      "  |========================                                              |  35%\r",
      "  |                                                                            \r",
      "  |=========================                                             |  35%\r",
      "  |                                                                            \r",
      "  |=========================                                             |  36%\r",
      "  |                                                                            \r",
      "  |==========================                                            |  37%\r",
      "  |                                                                            \r",
      "  |==========================                                            |  38%\r",
      "  |                                                                            \r",
      "  |===========================                                           |  38%\r",
      "  |                                                                            \r",
      "  |===========================                                           |  39%\r",
      "  |                                                                            \r",
      "  |============================                                          |  40%\r",
      "  |                                                                            \r",
      "  |============================                                          |  41%\r",
      "  |                                                                            \r",
      "  |=============================                                         |  41%\r",
      "  |                                                                            \r",
      "  |=============================                                         |  42%\r",
      "  |                                                                            \r",
      "  |==============================                                        |  43%\r",
      "  |                                                                            \r",
      "  |===============================                                       |  44%\r",
      "  |                                                                            \r",
      "  |===============================                                       |  45%\r",
      "  |                                                                            \r",
      "  |================================                                      |  45%\r",
      "  |                                                                            \r",
      "  |================================                                      |  46%\r",
      "  |                                                                            \r",
      "  |=================================                                     |  47%\r",
      "  |                                                                            \r",
      "  |=================================                                     |  48%\r",
      "  |                                                                            \r",
      "  |==================================                                    |  48%\r",
      "  |                                                                            \r",
      "  |==================================                                    |  49%\r",
      "  |                                                                            \r",
      "  |===================================                                   |  49%\r",
      "  |                                                                            \r",
      "  |===================================                                   |  50%\r",
      "  |                                                                            \r",
      "  |===================================                                   |  51%\r",
      "  |                                                                            \r",
      "  |====================================                                  |  51%\r",
      "  |                                                                            \r",
      "  |====================================                                  |  52%\r",
      "  |                                                                            \r",
      "  |=====================================                                 |  52%\r",
      "  |                                                                            \r",
      "  |=====================================                                 |  53%\r",
      "  |                                                                            \r",
      "  |=====================================                                 |  54%\r",
      "  |                                                                            \r",
      "  |======================================                                |  54%\r",
      "  |                                                                            \r",
      "  |======================================                                |  55%\r",
      "  |                                                                            \r",
      "  |=======================================                               |  55%\r",
      "  |                                                                            \r",
      "  |=======================================                               |  56%\r",
      "  |                                                                            \r",
      "  |========================================                              |  57%\r",
      "  |                                                                            \r",
      "  |========================================                              |  58%\r",
      "  |                                                                            \r",
      "  |=========================================                             |  58%\r",
      "  |                                                                            \r",
      "  |=========================================                             |  59%\r",
      "  |                                                                            \r",
      "  |==========================================                            |  60%\r",
      "  |                                                                            \r",
      "  |===========================================                           |  61%\r",
      "  |                                                                            \r",
      "  |===========================================                           |  62%\r",
      "  |                                                                            \r",
      "  |============================================                          |  62%\r",
      "  |                                                                            \r",
      "  |============================================                          |  63%\r",
      "  |                                                                            \r",
      "  |=============================================                         |  64%\r",
      "  |                                                                            \r",
      "  |=============================================                         |  65%\r",
      "  |                                                                            \r",
      "  |==============================================                        |  65%\r",
      "  |                                                                            \r",
      "  |==============================================                        |  66%\r",
      "  |                                                                            \r",
      "  |===============================================                       |  66%\r",
      "  |                                                                            \r",
      "  |===============================================                       |  67%\r",
      "  |                                                                            \r",
      "  |===============================================                       |  68%\r",
      "  |                                                                            \r",
      "  |================================================                      |  68%\r",
      "  |                                                                            \r",
      "  |================================================                      |  69%\r",
      "  |                                                                            \r",
      "  |=================================================                     |  70%\r",
      "  |                                                                            \r",
      "  |==================================================                    |  71%\r",
      "  |                                                                            \r",
      "  |==================================================                    |  72%\r",
      "  |                                                                            \r",
      "  |===================================================                   |  72%\r",
      "  |                                                                            \r",
      "  |===================================================                   |  73%\r",
      "  |                                                                            \r",
      "  |===================================================                   |  74%\r",
      "  |                                                                            \r",
      "  |====================================================                  |  74%\r",
      "  |                                                                            \r",
      "  |====================================================                  |  75%\r",
      "  |                                                                            \r",
      "  |=====================================================                 |  75%\r",
      "  |                                                                            \r",
      "  |=====================================================                 |  76%\r",
      "  |                                                                            \r",
      "  |======================================================                |  77%\r",
      "  |                                                                            \r",
      "  |=======================================================               |  78%\r",
      "  |                                                                            \r",
      "  |=======================================================               |  79%\r",
      "  |                                                                            \r",
      "  |========================================================              |  79%\r",
      "  |                                                                            \r",
      "  |========================================================              |  80%\r",
      "  |                                                                            \r",
      "  |========================================================              |  81%\r",
      "  |                                                                            \r",
      "  |=========================================================             |  81%\r",
      "  |                                                                            \r",
      "  |=========================================================             |  82%\r",
      "  |                                                                            \r",
      "  |==========================================================            |  82%\r",
      "  |                                                                            \r",
      "  |==========================================================            |  83%\r",
      "  |                                                                            \r",
      "  |===========================================================           |  84%\r",
      "  |                                                                            \r",
      "  |===========================================================           |  85%\r",
      "  |                                                                            \r",
      "  |============================================================          |  85%\r",
      "  |                                                                            \r",
      "  |============================================================          |  86%\r",
      "  |                                                                            \r",
      "  |=============================================================         |  87%\r",
      "  |                                                                            \r",
      "  |=============================================================         |  88%\r",
      "  |                                                                            \r",
      "  |==============================================================        |  88%\r",
      "  |                                                                            \r",
      "  |==============================================================        |  89%\r",
      "  |                                                                            \r",
      "  |===============================================================       |  89%\r",
      "  |                                                                            \r",
      "  |===============================================================       |  90%\r",
      "  |                                                                            \r",
      "  |================================================================      |  91%\r",
      "  |                                                                            \r",
      "  |================================================================      |  92%\r",
      "  |                                                                            \r",
      "  |=================================================================     |  92%\r",
      "  |                                                                            \r",
      "  |=================================================================     |  93%\r",
      "  |                                                                            \r",
      "  |==================================================================    |  94%\r",
      "  |                                                                            \r",
      "  |==================================================================    |  95%\r",
      "  |                                                                            \r",
      "  |===================================================================   |  95%\r",
      "  |                                                                            \r",
      "  |===================================================================   |  96%\r",
      "  |                                                                            \r",
      "  |====================================================================  |  97%\r",
      "  |                                                                            \r",
      "  |====================================================================  |  98%\r",
      "  |                                                                            \r",
      "  |===================================================================== |  98%\r",
      "  |                                                                            \r",
      "  |===================================================================== |  99%\r",
      "  |                                                                            \r",
      "  |======================================================================| 100%\n"
     ]
    }
   ],
   "source": [
    "#set grid search parameters\n",
    "rf.params <- list(ntrees = c(50,200),\n",
    "                  nbins = c(20),\n",
    "                  distribution = c(\"bernoulli\",\"multinomial\", \"gaussian\", \"poisson\")) \n",
    "\n",
    "# Train and validate a grid of random forest\n",
    "rf.grid <- h2o.grid(\"randomForest\", x = x, y = y,\n",
    "                    grid_id = \"rf.grid\",\n",
    "                    training_frame = h2o_train,\n",
    "                    validation_frame = h2o_valid,\n",
    "                    seed = 20070831,\n",
    "                    hyper_params = rf.params)"
   ]
  },
  {
   "cell_type": "markdown",
   "metadata": {},
   "source": [
    "The best model is: model no.**4**"
   ]
  },
  {
   "cell_type": "code",
   "execution_count": 32,
   "metadata": {},
   "outputs": [
    {
     "name": "stdout",
     "output_type": "stream",
     "text": [
      "H2O Grid Details\n",
      "================\n",
      "\n",
      "Grid ID: rf.grid \n",
      "Used hyper parameters: \n",
      "  -  distribution \n",
      "  -  nbins \n",
      "  -  ntrees \n",
      "Number of models: 8 \n",
      "Number of failed models: 0 \n",
      "\n",
      "Hyper-Parameter Search Summary: ordered by decreasing auc\n",
      "  distribution nbins ntrees       model_ids                auc\n",
      "1    bernoulli    20    200 rf.grid_model_4 0.6830113861619366\n",
      "2  multinomial    20    200 rf.grid_model_5 0.6830113861619366\n",
      "3     gaussian    20    200 rf.grid_model_6 0.6830113861619366\n",
      "4      poisson    20    200 rf.grid_model_7 0.6830113861619366\n",
      "5      poisson    20     50 rf.grid_model_3 0.6793552230520612\n",
      "6    bernoulli    20     50 rf.grid_model_0 0.6793552230520612\n",
      "7     gaussian    20     50 rf.grid_model_2 0.6793552230520612\n",
      "8  multinomial    20     50 rf.grid_model_1 0.6793552230520612\n"
     ]
    }
   ],
   "source": [
    "rf.grid.perf <- h2o.getGrid(grid_id = \"rf.grid\", \n",
    "                             sort_by = \"auc\", \n",
    "                             decreasing = TRUE)\n",
    "print(rf.grid.perf)"
   ]
  },
  {
   "cell_type": "code",
   "execution_count": 33,
   "metadata": {},
   "outputs": [
    {
     "data": {
      "text/html": [
       "<table>\n",
       "<thead><tr><th scope=col>model</th><th scope=col>accuracy</th></tr></thead>\n",
       "<tbody>\n",
       "\t<tr><td>random forest</td><td>0.6791712    </td></tr>\n",
       "</tbody>\n",
       "</table>\n"
      ],
      "text/latex": [
       "\\begin{tabular}{r|ll}\n",
       " model & accuracy\\\\\n",
       "\\hline\n",
       "\t random forest & 0.6791712    \\\\\n",
       "\\end{tabular}\n"
      ],
      "text/markdown": [
       "\n",
       "model | accuracy | \n",
       "|---|\n",
       "| random forest | 0.6791712     | \n",
       "\n",
       "\n"
      ],
      "text/plain": [
       "  model         accuracy \n",
       "1 random forest 0.6791712"
      ]
     },
     "metadata": {},
     "output_type": "display_data"
    },
    {
     "data": {
      "image/png": "[encoded data removed]",
      "text/plain": [
       "Plot with title \"Variable Importance: Deep Learning\""
      ]
     },
     "metadata": {},
     "output_type": "display_data"
    }
   ],
   "source": [
    "#select model 4 as our final model\n",
    "best_rf_model_id <- rf.grid.perf@model_ids[[4]]\n",
    "best_rf <- h2o.getModel(best_rf_model_id)\n",
    "\n",
    "# Now let's evaluate the model performance on a test set\n",
    "# so we get an honest estimate of top model performance\n",
    "best_rf_perf <- h2o.performance(model = best_rf, \n",
    "                                 newdata = h2o_test)\n",
    "#initialize dataframe for model performance comparison\n",
    "model_performance <- rbind(model_performance,data.frame(model = \"naive bayes\", accuracy = h2o.auc(best_rf_perf)))\n",
    "model_performance\n",
    "\n",
    "#variable importance plot\n",
    "plot_width = 7\n",
    "options(repr.plot.width= plot_width, repr.plot.height=plot_width * 0.618)\n",
    "h2o.varimp_plot(best_rf,num_of_features = 15)"
   ]
  },
  {
   "cell_type": "markdown",
   "metadata": {},
   "source": [
    "### 4.D Gradient Boosting Machine"
   ]
  },
  {
   "cell_type": "code",
   "execution_count": null,
   "metadata": {
    "collapsed": true
   },
   "outputs": [],
   "source": [
    "#set grid search parameters\n",
    "gbm.params <- list(learn_rate = seq(0.01, 0.1),\n",
    "                   max_depth = seq(3,5),\n",
    "                   sample_rate = seq(0.8,1),\n",
    "                   col_sample_rate = seq(0.2, 0.5),\n",
    "                   ntrees = 200)\n",
    "\n",
    "# Train and validate a grid of GBMs\n",
    "gbm.grid <- h2o.grid(\"gbm\", x = x, y = y,\n",
    "                     grid_id = \"gbm.grid\",\n",
    "                     training_frame = h2o_train,\n",
    "                     validation_frame = h2o_valid,\n",
    "                     seed = 20070831,\n",
    "                     hyper_params = gbm.params)"
   ]
  },
  {
   "cell_type": "markdown",
   "metadata": {},
   "source": [
    "### 4.E Generalized Linear Model"
   ]
  },
  {
   "cell_type": "code",
   "execution_count": null,
   "metadata": {
    "collapsed": true
   },
   "outputs": [],
   "source": [
    "#set grid search parameters\n",
    "glm.params <- list(loss = c(\"Quadratic\",\"CrossEntropy\"), #loss function\n",
    "                    rate = c(0.05,0.1,0.5), #learning rate\n",
    "                    hidden = list(c(10,10),c(20,20))) #number of layers\n",
    "\n",
    "# Train and validate a grid of glms\n",
    "glm.grid <- h2o.grid(\"glm\", x = x, y = y,\n",
    "                      grid_id = \"glm.grid\",\n",
    "                      training_frame = h2o_train,\n",
    "                      validation_frame = h2o_valid,\n",
    "                      seed = 20070831,\n",
    "                      hyper_params = glm.params)"
   ]
  },
  {
   "cell_type": "markdown",
   "metadata": {},
   "source": [
    "### 4.F Model Performance Comparison"
   ]
  },
  {
   "cell_type": "markdown",
   "metadata": {},
   "source": [
    "## 5. Summary"
   ]
  }
 ],
 "metadata": {
  "kernelspec": {
   "display_name": "R",
   "language": "R",
   "name": "ir"
  },
  "language_info": {
   "codemirror_mode": "r",
   "file_extension": ".r",
   "mimetype": "text/x-r-source",
   "name": "R",
   "pygments_lexer": "r",
   "version": "3.4.2"
  }
 },
 "nbformat": 4,
 "nbformat_minor": 2
}
